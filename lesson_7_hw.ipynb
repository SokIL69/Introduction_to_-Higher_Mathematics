{
 "cells": [
  {
   "cell_type": "markdown",
   "metadata": {},
   "source": [
    "# Введение в высшую математику"
   ]
  },
  {
   "cell_type": "markdown",
   "metadata": {},
   "source": [
    "## Урок 7. Видеоурок “Введение в линейную алгебру”"
   ]
  },
  {
   "cell_type": "markdown",
   "metadata": {},
   "source": [
    "# <center> Практическое задание к уроку 7</center>\n",
    "\n",
    "## <center>1 - часть</center> "
   ]
  },
  {
   "cell_type": "markdown",
   "metadata": {},
   "source": [
    "__Практическое задание №5__"
   ]
  },
  {
   "cell_type": "markdown",
   "metadata": {},
   "source": [
    "5.1.\n",
    "Вектор – это частный случай матрицы 1хN и Nх1. Повторите материал для векторов, уделяя особое внимание умножению A∙B.\n",
    "\n",
    "Вычислите, по возможности не используя программирование: (5E)-1 где Е – единичная матрица размера 5х5."
   ]
  },
  {
   "cell_type": "markdown",
   "metadata": {},
   "source": [
    "5.2.\n",
    "Вычислите определитель:\n",
    "   \n",
    "|1 2 3|<br>\n",
    "|4 0 6|<br>\n",
    "|7 8 9|<br>\n",
    "\n",
    "5.3.\n",
    "    \n",
    "1. Вычислите матрицу, обратную данной:<br>\n",
    "|1 2 3|<br>\n",
    "|4 0 6|<br>\n",
    "|7 8 9|<br>\n",
    "\t\n",
    "2. Приведите пример матрицы 4х4, ранг которой равен 1.\n",
    "\n",
    "5.4.<br>\n",
    "Вычислите скалярное произведение двух векторов:  \n",
    "(1, 5)  и  (2, 8)\n",
    "\n",
    "\n",
    "5.5<br>\n",
    "(1, 5, 0), (2, 8, 7) и (7, 1.5, 3) Вычислите смешанное произведение трех векторов:"
   ]
  },
  {
   "cell_type": "markdown",
   "metadata": {},
   "source": [
    "# \n",
    "## <center>2 - часть</center> "
   ]
  },
  {
   "cell_type": "markdown",
   "metadata": {},
   "source": [
    "__Практическое задание №6__\n",
    "\n",
    "\n",
    "1. Решите линейную систему:\n",
    "$$\\begin{bmatrix} \n",
    "1 & 2 & 3\\\\\n",
    "4 & 0 & 6\\\\\n",
    "7 & 8 & 9\\\\\n",
    "\\end{bmatrix}*X=\n",
    "\\begin{bmatrix} \n",
    "12\\\\\n",
    "2\\\\\n",
    "1\\\\\n",
    "\\end{bmatrix}\n",
    "$$\n",
    "\n",
    "2. Найдите псевдорешение:<br>\n",
    "x + 2y – z = 1<br>\n",
    "3x – 4y = 7<br>\n",
    "8x – 5y + 2z = 12<br>\n",
    "2x – 5z = 7<br>\n",
    "11x +4y – 7z = 15\n",
    "\n",
    "\n",
    "3. Сколько решений имеет линейная система:<br>\n",
    "$$\\begin{bmatrix} \n",
    "1 & 2 & 3\\\\\n",
    "4 & 5 & 6\\\\\n",
    "7 & 8 & 9\\\\\n",
    "\\end{bmatrix}*X=\n",
    "\\begin{bmatrix} \n",
    "12\\\\\n",
    "2\\\\\n",
    "1\\\\\n",
    "\\end{bmatrix}\n",
    "$$\n",
    "\n",
    "Если ноль – то измените вектор правой части так, чтобы система стала совместной, и решите ее. \n",
    "\n",
    "\n",
    "4. Вычислите LU-разложение матрицы:<br>\n",
    "$$\\begin{bmatrix} \n",
    "1 & 2 & 3\\\\\n",
    "2 & 16 & 21\\\\\n",
    "4 & 28 & 73\\\\\n",
    "\\end{bmatrix}$$\n",
    "\n",
    "\n",
    "5. Найдите нормальное псевдорешение недоопределенной системы:<br>\n",
    "x + 2y – z = 1  <br>\n",
    "8x – 5y + 2z = 12<br>\n",
    "Для этого определите функцию Q(x,y,z), равную норме решения, и найдите ее минимум. \n",
    "\n",
    "\n",
    "6. Найдите одно из псевдорешений вырожденной системы:<br>\n",
    "$$\\begin{bmatrix} \n",
    "1 & 2 & 3\\\\\n",
    "4 & 5 & 6\\\\\n",
    "7 & 8 & 9\\\\\n",
    "\\end{bmatrix}*X=\n",
    "\\begin{bmatrix} \n",
    "2\\\\\n",
    "5\\\\\n",
    "11\\\\\n",
    "\\end{bmatrix}\n",
    "$$\n",
    "\n",
    "Попробуйте также отыскать и нормальное псевдорешение.\n",
    "\n"
   ]
  },
  {
   "cell_type": "code",
   "execution_count": 1,
   "metadata": {},
   "outputs": [],
   "source": [
    "import numpy as np"
   ]
  },
  {
   "cell_type": "markdown",
   "metadata": {},
   "source": [
    "## <center>1 - часть</center> "
   ]
  },
  {
   "cell_type": "markdown",
   "metadata": {},
   "source": [
    "# Задание 5.1"
   ]
  },
  {
   "cell_type": "markdown",
   "metadata": {},
   "source": [
    "Вектор – это частный случай матрицы 1хN и Nх1. Повторите материал для векторов, уделяя особое внимание умножению A∙B.\n",
    "\n",
    "Вычислите, по возможности не используя программирование: $(5E)^{-1}$ где $Е$ – единичная матрица размера 5х5."
   ]
  },
  {
   "cell_type": "markdown",
   "metadata": {},
   "source": [
    "$$(5E)(5E)^{-1}=E$$\n",
    "\n",
    "Из определения обратной матрицы $A\\cdot A^{-1}=E$ и того что $E^{-1}=E$ и $det(5E)=5$, следует\n",
    "\n",
    "$$(5E)\\cdot(5E)^{-1} = 5E\\cdot\\frac{1}{det(5E)}A' = 5E\\cdot\\frac{1}{5}A' = 5\\cdot\\frac{1}{5}E\\cdot A' = 5\\cdot\\frac{1}{5}E\\cdot E^{-1} = E$$.\n",
    "\n",
    "Следовательно матрица $A'=E$. Поэтому обратная матрица в нашем случае будет иметь вид $(5E)^{-1}= \\frac{1}{5}E$"
   ]
  },
  {
   "cell_type": "markdown",
   "metadata": {},
   "source": [
    "# Задание 5.2"
   ]
  },
  {
   "cell_type": "markdown",
   "metadata": {},
   "source": [
    "Вычислите определитель:\n",
    "   \n",
    "|1 2 3|<br>\n",
    "|4 0 6|<br>\n",
    "|7 8 9|"
   ]
  },
  {
   "cell_type": "markdown",
   "metadata": {},
   "source": [
    "$$def A= 1\\cdot (0\\cdot 9 - 8\\cdot 6) - 2\\cdot(4\\cdot 9 - 7\\cdot 6) + 3\\cdot(4\\cdot 8 - 7\\cdot 0)=$$\n",
    "$$=-48 - 2(36 - 42) + 3(32 - 0) = -48 + 12 + 96= 60$$"
   ]
  },
  {
   "cell_type": "code",
   "execution_count": 2,
   "metadata": {},
   "outputs": [
    {
     "data": {
      "text/plain": [
       "59.999999999999986"
      ]
     },
     "execution_count": 2,
     "metadata": {},
     "output_type": "execute_result"
    }
   ],
   "source": [
    "a = np.array([[1, 2, 3], [4, 0, 6], [7, 8 ,9]])\n",
    "np.linalg.det(a)"
   ]
  },
  {
   "cell_type": "markdown",
   "metadata": {},
   "source": [
    "# Задание 5.3"
   ]
  },
  {
   "cell_type": "markdown",
   "metadata": {},
   "source": [
    "1. Вычислите матрицу, обратную данной:<br>\n",
    "$$A=\\begin{pmatrix} \n",
    "1 & 2 & 3\\\\\n",
    "4 & 0 & 6\\\\\n",
    "7 & 8 & 9\\\\\n",
    "\\end{pmatrix}$$"
   ]
  },
  {
   "cell_type": "markdown",
   "metadata": {},
   "source": [
    "__Главный определитель $\\Delta$__<br>\n",
    "$∆=1*(0*9 - 8*6) - 4*(2*9 - 8*3) + 7*(2*6 - 0*3) = 60$\n",
    "\n",
    "Определитель отличен от нуля, следовательно, матрица является невырожденной и для нее можно найти обратную матрицу A.\n",
    "\n",
    "__Обратная матрица__ будет иметь следующий вид:\n",
    "\n",
    "$$A^{-1}=\\frac{1}{60}\\begin{pmatrix} \n",
    "A_{11} & A_{21} & A_{31}\\\\\n",
    "A_{12} & A_{22} & A_{32}\\\\\n",
    "A_{13} & A_{23} & A_{33}\\\\\n",
    "\\end{pmatrix}$$\n",
    "\n",
    "где $Aij$ - алгебраичеякое дополнение.<br>"
   ]
  },
  {
   "cell_type": "markdown",
   "metadata": {},
   "source": [
    "__Транспонированная матрица__\n",
    "$$A^T=\\begin{pmatrix} \n",
    "1 & 4 & 7\\\\\n",
    "2 & 0 & 8\\\\\n",
    "3 & 6 & 9\\\\\n",
    "\\end{pmatrix}$$"
   ]
  },
  {
   "cell_type": "markdown",
   "metadata": {},
   "source": [
    "Найдем алгебраические дополнения матрицы $A^T$ <br>\n",
    "$A_{1,1}=(-1)^{1+1}(0*9-6*8)=-48$ <br>\n",
    "$A_{1,2}=(-1)^{1+2}(2*9-3*8)=6$ <br>\n",
    "$A_{1,3}=(-1)^{1+3}(2*6-3*0)=12$ <br>\n",
    "\n",
    "$A_{2,1}=(-1)^{2+1}(4*9-6*7)=6$ <br>\n",
    "$A_{2,2}=(-1)^{2+2}(1*9-3*7)=-12$ <br>\n",
    "$A_{2,3}=(-1)^{2+3}(2*6-3*4)=6$ <br>\n",
    "\n",
    "$A_{3,1}=(-1)^{3+1}(4*8-0*7)=32$ <br>\n",
    "$A_{3,2}=(-1)^{3+2}(1*8-2*7)=6$ <br>\n",
    "$A_{3,3}=(-1)^{3+3}(1*0-2*4)=-8$ <br>"
   ]
  },
  {
   "cell_type": "markdown",
   "metadata": {},
   "source": [
    "__Обратная матрица__"
   ]
  },
  {
   "cell_type": "markdown",
   "metadata": {},
   "source": [
    "$$A^{-1}=\\frac{1}{60}\\begin{pmatrix} \n",
    "-48 & 6 & 12\\\\\n",
    "6 & -12 & 6\\\\\n",
    "32 & 6 & -8\\\\\n",
    "\\end{pmatrix}$$"
   ]
  },
  {
   "cell_type": "markdown",
   "metadata": {},
   "source": [
    "__Проверка__:"
   ]
  },
  {
   "cell_type": "code",
   "execution_count": 3,
   "metadata": {},
   "outputs": [
    {
     "name": "stdout",
     "output_type": "stream",
     "text": [
      "A:\n",
      " [[1 2 3]\n",
      " [4 0 6]\n",
      " [7 8 9]] \n",
      "\n",
      "A_1:\n",
      " [[-0.8         0.1         0.2       ]\n",
      " [ 0.1        -0.2         0.1       ]\n",
      " [ 0.53333333  0.1        -0.13333333]] \n",
      "\n",
      "A*A_1:\n",
      " [[ 1.00000000e+00 -2.77555756e-17  2.77555756e-17]\n",
      " [-2.22044605e-16  1.00000000e+00  5.55111512e-17]\n",
      " [-7.77156117e-16  2.77555756e-17  1.00000000e+00]]\n"
     ]
    }
   ],
   "source": [
    "A=(np.matrix([[ 1,  2,  3],\n",
    " [ 4, 0, 6],\n",
    " [7, 8, 9]]))\n",
    "\n",
    "print('A:\\n', A,'\\n')\n",
    "\n",
    "A_1 = (np.matrix(\n",
    "[[ -48,  6,  12],\n",
    " [ 6, -12, 6],\n",
    " [32, 6, -8]]))/60\n",
    "\n",
    "print('A_1:\\n',A_1,'\\n')\n",
    "print('A*A_1:\\n',A*A_1)"
   ]
  },
  {
   "cell_type": "code",
   "execution_count": 4,
   "metadata": {},
   "outputs": [
    {
     "name": "stdout",
     "output_type": "stream",
     "text": [
      "A_2:\n",
      " [[-0.8         0.1         0.2       ]\n",
      " [ 0.1        -0.2         0.1       ]\n",
      " [ 0.53333333  0.1        -0.13333333]]\n"
     ]
    }
   ],
   "source": [
    "A_2 = np.linalg.inv(A)\n",
    "print('A_2:\\n', A_2)"
   ]
  },
  {
   "cell_type": "markdown",
   "metadata": {},
   "source": [
    "\t\n",
    "2. Приведите пример матрицы 4х4, ранг которой равен 1."
   ]
  },
  {
   "cell_type": "code",
   "execution_count": 5,
   "metadata": {},
   "outputs": [
    {
     "data": {
      "text/plain": [
       "matrix([[ -0.5,  -1. ,   1.5,   0. ],\n",
       "        [  1. ,   2. ,  -3. ,   0. ],\n",
       "        [  4. ,   8. , -12. ,   0. ],\n",
       "        [ -1. ,  -2. ,   3. ,   0. ]])"
      ]
     },
     "execution_count": 5,
     "metadata": {},
     "output_type": "execute_result"
    }
   ],
   "source": [
    "A=(np.matrix([[ -1/2,  -1,  3/2, 0],\n",
    " [ 1, 2, -3, 0],\n",
    " [ 4, 8, -12, 0],\n",
    " [ -1, -2, 3, 0]]))\n",
    "\n",
    "A"
   ]
  },
  {
   "cell_type": "markdown",
   "metadata": {},
   "source": [
    "# Задание 5.4"
   ]
  },
  {
   "cell_type": "markdown",
   "metadata": {},
   "source": [
    "Вычислите скалярное произведение двух векторов:  \n",
    "(1, 5)  и  (2, 8)"
   ]
  },
  {
   "cell_type": "markdown",
   "metadata": {},
   "source": [
    "$$\\begin{pmatrix} 1 & 5\\\\ \\end{pmatrix}\n",
    "  \\begin{pmatrix} 2\\\\ 8\\\\ \\end{pmatrix} = 1\\cdot2+5\\cdot8 = 42$$"
   ]
  },
  {
   "cell_type": "code",
   "execution_count": 2,
   "metadata": {},
   "outputs": [],
   "source": [
    "%matplotlib inline\n",
    "import numpy as np\n",
    "import matplotlib.pyplot as plt"
   ]
  },
  {
   "cell_type": "code",
   "execution_count": 7,
   "metadata": {},
   "outputs": [
    {
     "data": {
      "image/png": "[encoded data removed]",
      "text/plain": [
       "<Figure size 432x288 with 1 Axes>"
      ]
     },
     "metadata": {
      "needs_background": "light"
     },
     "output_type": "display_data"
    },
    {
     "data": {
      "text/plain": [
       "42.0"
      ]
     },
     "execution_count": 7,
     "metadata": {},
     "output_type": "execute_result"
    }
   ],
   "source": [
    "i = np.array([1, 5], float)\n",
    "j = np.array([2, 8], float)\n",
    "X, Y = np.array([0, 0]), np.array([0, 0])\n",
    "U, V = np.array([i[0], j[0]]), np.array([i[1], j[1]])\n",
    "\n",
    "plt.quiver(X, Y, U, V, angles='xy', scale_units='xy', scale=1)\n",
    "\n",
    "plt.xlim(-1, 16)\n",
    "plt.ylim(-1, 9)\n",
    "plt.grid(True)\n",
    "plt.show()\n",
    "np.inner(i, j)"
   ]
  },
  {
   "cell_type": "markdown",
   "metadata": {},
   "source": [
    "\n",
    "# Задание 5.5"
   ]
  },
  {
   "cell_type": "markdown",
   "metadata": {},
   "source": [
    "(1, 5, 0), (2, 8, 7) и (7, 1.5, 3) Вычислите смешанное произведение трех векторов:"
   ]
  },
  {
   "cell_type": "markdown",
   "metadata": {},
   "source": [
    "$a=\\begin{pmatrix} \n",
    "1 & 5 & 0\\\\\n",
    "\\end{pmatrix}$\n",
    "\n",
    "$b=\\begin{pmatrix} \n",
    "2 & 8 & 7\\\\\n",
    "\\end{pmatrix}$\n",
    "\n",
    "$c=\\begin{pmatrix} \n",
    "7 & 1.5 & 3\\\\\n",
    "\\end{pmatrix}$"
   ]
  },
  {
   "cell_type": "markdown",
   "metadata": {},
   "source": [
    "$\\vec a \\times \\vec b  = \\left|\n",
    "\\begin{array}{cccc}\n",
    "\\vec i & \\vec j & \\vec k \\\\\n",
    "a_{x} & a_{y} & a_{z}\\\\\n",
    "b_{x} & b_{y} & b_{z}\n",
    "\\end{array}\n",
    "\\right|$"
   ]
  },
  {
   "cell_type": "markdown",
   "metadata": {},
   "source": [
    "$\\vec a \\times \\vec b  = -\\Sigma_{j,k=1}^{3}e_{ijk}\\cdot a_j\\cdot b_k$, где $e_{ijk}$ - символ Леви-Чивиты"
   ]
  },
  {
   "cell_type": "markdown",
   "metadata": {},
   "source": [
    "$\\vec a \\times \\vec b  = (a_yb_z-a_zb_y, a_zb_x-a_xb_z, a_xb_y-a_yb_x) = (5\\cdot 7-0\\cdot 2; 0\\cdot 2-1\\cdot 7; 1\\cdot 8-5\\cdot 2) = (35, -7, -2)$"
   ]
  },
  {
   "cell_type": "markdown",
   "metadata": {},
   "source": [
    "$( \\vec a \\times \\vec b ) \\cdot c = 35\\cdot 7 + (-7\\cdot 1.5) + (-2\\cdot 3) = 228.5$"
   ]
  },
  {
   "cell_type": "code",
   "execution_count": 8,
   "metadata": {},
   "outputs": [
    {
     "data": {
      "text/plain": [
       "228.5"
      ]
     },
     "execution_count": 8,
     "metadata": {},
     "output_type": "execute_result"
    }
   ],
   "source": [
    "35*7-(7*1.5)-(2*3)"
   ]
  },
  {
   "cell_type": "markdown",
   "metadata": {},
   "source": [
    "$$a*b=\n",
    "\\begin{pmatrix} 1 & 5 & 0\\\\ \\end{pmatrix}\n",
    "\\begin{pmatrix} 2\\\\ 8\\\\ 7\\\\ \\end{pmatrix} = 1\\cdot2+5\\cdot8 + 0 \\cdot 7 = 42$$  \n",
    "\n",
    "$$a*b*c=42*\\begin{pmatrix} 7 & 1.5 & 3\\\\ \\end{pmatrix} = \\begin{pmatrix} 494 & 10.5 & 126\\\\ \\end{pmatrix}$$"
   ]
  },
  {
   "cell_type": "markdown",
   "metadata": {},
   "source": [
    "#### Смешанное произведение\n",
    "### $( \\vec a \\times \\vec b ) \\cdot c = a \\cdot ( \\vec b \\times \\vec c ) $"
   ]
  },
  {
   "cell_type": "code",
   "execution_count": 9,
   "metadata": {},
   "outputs": [
    {
     "name": "stdout",
     "output_type": "stream",
     "text": [
      "[35. -7. -2.]\n",
      "228.5\n",
      "228.5\n"
     ]
    }
   ],
   "source": [
    "a = np.array([1, 5, 0], float)\n",
    "b = np.array([2, 8, 7], float)\n",
    "c = np.array([7, 1.5, 3], float)\n",
    "v = np.cross(a, b)\n",
    "print(v)\n",
    "print (np.inner(v, c))\n",
    "w = np.cross(b, c)\n",
    "print (np.inner(w, a))"
   ]
  },
  {
   "cell_type": "markdown",
   "metadata": {},
   "source": [
    "# \n",
    "## <center>2 - часть</center> "
   ]
  },
  {
   "cell_type": "markdown",
   "metadata": {},
   "source": [
    "## Практическое задание №6"
   ]
  },
  {
   "cell_type": "markdown",
   "metadata": {},
   "source": [
    "# Задание 1"
   ]
  },
  {
   "cell_type": "markdown",
   "metadata": {},
   "source": [
    "Решите линейную систему:\n",
    "$$\\begin{bmatrix} \n",
    "1 & 2 & 3\\\\\n",
    "4 & 0 & 6\\\\\n",
    "7 & 8 & 9\\\\\n",
    "\\end{bmatrix}*X=\n",
    "\\begin{bmatrix} \n",
    "12\\\\\n",
    "2\\\\\n",
    "1\\\\\n",
    "\\end{bmatrix}\n",
    "$$"
   ]
  },
  {
   "cell_type": "code",
   "execution_count": 3,
   "metadata": {},
   "outputs": [
    {
     "data": {
      "text/plain": [
       "array([-9.2       ,  0.9       ,  6.46666667])"
      ]
     },
     "execution_count": 3,
     "metadata": {},
     "output_type": "execute_result"
    }
   ],
   "source": [
    "A = np.array([[1, 2, 3], [4, 0, 6], [7, 8, 9]])\n",
    "B = np.array([12, 2, 1])\n",
    "np.linalg.solve(A, B)"
   ]
  },
  {
   "cell_type": "code",
   "execution_count": 5,
   "metadata": {},
   "outputs": [
    {
     "name": "stdout",
     "output_type": "stream",
     "text": [
      "[[-0.8         0.1         0.2       ]\n",
      " [ 0.1        -0.2         0.1       ]\n",
      " [ 0.53333333  0.1        -0.13333333]]\n",
      "del = 59.999999999999986\n",
      "Решение:\n"
     ]
    },
    {
     "data": {
      "text/plain": [
       "array([-9.2       ,  0.9       ,  6.46666667])"
      ]
     },
     "execution_count": 5,
     "metadata": {},
     "output_type": "execute_result"
    }
   ],
   "source": [
    "# Решение СЛАУ через обратную матрицу\n",
    "A1 = np.linalg.inv(A)\n",
    "print(A1)\n",
    "print(\"del =\", np.linalg.det(A))\n",
    "print('Решение:')\n",
    "np.dot(A1, B)"
   ]
  },
  {
   "cell_type": "markdown",
   "metadata": {},
   "source": [
    "# Задание 2"
   ]
  },
  {
   "cell_type": "markdown",
   "metadata": {},
   "source": [
    "Найдите псевдорешение:<br>\n",
    "x + 2y – z = 1<br>\n",
    "3x – 4y = 7<br>\n",
    "8x – 5y + 2z = 12<br>\n",
    "2x – 5z = 7<br>\n",
    "11x +4y – 7z = 15"
   ]
  },
  {
   "cell_type": "code",
   "execution_count": 16,
   "metadata": {},
   "outputs": [
    {
     "name": "stderr",
     "output_type": "stream",
     "text": [
      "<ipython-input-16-f61ac1e827eb>:9: FutureWarning: `rcond` parameter will change to the default of machine precision times ``max(M, N)`` where M and N are the input matrix dimensions.\n",
      "To use the future default and silence this warning we advise to pass `rcond=None`, to keep using the old, explicitly pass `rcond=-1`.\n",
      "  np.linalg.lstsq(A, B)\n"
     ]
    },
    {
     "data": {
      "text/plain": [
       "(array([ 1.13919353, -0.90498444, -0.9009803 ]),\n",
       " array([0.71523211]),\n",
       " 3,\n",
       " array([15.2817306 ,  9.59852942,  3.65197794]))"
      ]
     },
     "execution_count": 16,
     "metadata": {},
     "output_type": "execute_result"
    }
   ],
   "source": [
    "import numpy as np\n",
    "import matplotlib.pyplot as plt\n",
    "\n",
    "# переопределенное СЛАУ\n",
    "A = np.array([[1, 2, -1], [3, -4, 0], [8, -5, 2], [2, 0, -5], [11, 4, -7]], float)\n",
    "B = np.array([1, 7, 12, 7, 15])\n",
    "\n",
    "# Решение минимизирующее длину вектора невязки методом наименьших квадратов\n",
    "np.linalg.lstsq(A, B)\n",
    "\n",
    "\n",
    "# (array([ 1.13919353, -0.90498444, -0.9009803 ])  - псевдорешение\n",
    "# array([0.71523211]) - значение функции невязки (сумма квадратов невязок каждого уравнения)\n",
    "# 3 - ранг матрицы A\n",
    "# array([15.2817306 ,  9.59852942,  3.65197794])) - дополнительные параметры"
   ]
  },
  {
   "cell_type": "code",
   "execution_count": 12,
   "metadata": {},
   "outputs": [
    {
     "data": {
      "text/plain": [
       "array([ 0.23020495,  7.03751835, 11.83650984,  6.78328856, 15.21805317])"
      ]
     },
     "execution_count": 12,
     "metadata": {},
     "output_type": "execute_result"
    }
   ],
   "source": [
    "# Проверка\n",
    "np.dot(A, [1.13919353, -0.90498444, -0.9009803])"
   ]
  },
  {
   "cell_type": "code",
   "execution_count": 14,
   "metadata": {},
   "outputs": [
    {
     "data": {
      "text/plain": [
       "array([-0.76979505,  0.03751835, -0.16349016, -0.21671144,  0.21805317])"
      ]
     },
     "execution_count": 14,
     "metadata": {},
     "output_type": "execute_result"
    }
   ],
   "source": [
    "# Подсчитаем невязку каждого уравнения\n",
    "np.dot(A, [ 1.13919353, -0.90498444, -0.9009803 ]) - B"
   ]
  },
  {
   "cell_type": "code",
   "execution_count": 17,
   "metadata": {},
   "outputs": [
    {
     "data": {
      "text/plain": [
       "0.7152321111819737"
      ]
     },
     "execution_count": 17,
     "metadata": {},
     "output_type": "execute_result"
    }
   ],
   "source": [
    "# Определим функцию нормы невязки\n",
    "def Q(x,y,z):\n",
    "    return ((np.linalg.norm(np.dot(A, [x, y, z]) - B))**2)\n",
    "\n",
    "Q(1.13919353, -0.90498444, -0.9009803)\n",
    "\n",
    "# Значение совпадает с результатом применения численного метода\n",
    "# 0.7152321111819737"
   ]
  },
  {
   "cell_type": "code",
   "execution_count": 7,
   "metadata": {},
   "outputs": [
    {
     "name": "stdout",
     "output_type": "stream",
     "text": [
      "[[ 1.  2. -1.]\n",
      " [ 3. -4.  0.]\n",
      " [ 8. -5.  2.]\n",
      " [ 2.  0. -5.]\n",
      " [11.  4. -7.]]\n",
      "[[ 0.0184525  -0.01309971  0.06358533 -0.05827435  0.0571557 ]\n",
      " [ 0.05588372 -0.11181622 -0.03160448 -0.12284939  0.07073632]\n",
      " [ 0.03245479 -0.06855478  0.06726537 -0.17860416 -0.00070046]]\n"
     ]
    }
   ],
   "source": [
    "import numpy as np\n",
    "from numpy import linalg as LA\n",
    "print(A)\n",
    "\n",
    "# Функция linalg.pinv() вычисляет псевдообратную матрицу (Мура-Пенроуза).\n",
    "a_pinv = LA.pinv(A)\n",
    "print(a_pinv)"
   ]
  },
  {
   "cell_type": "markdown",
   "metadata": {},
   "source": [
    "Псевдорешение $X'=A^{'}b$"
   ]
  },
  {
   "cell_type": "code",
   "execution_count": 8,
   "metadata": {},
   "outputs": [
    {
     "name": "stdout",
     "output_type": "stream",
     "text": [
      "Псевдорешение X_1:\n",
      "[ 1.13919353 -0.90498444 -0.9009803 ]\n"
     ]
    }
   ],
   "source": [
    "X_1=np.dot(a_pinv, B)\n",
    "print(f'Псевдорешение X_1:\\n{X_1}')"
   ]
  },
  {
   "cell_type": "markdown",
   "metadata": {},
   "source": [
    "# Задание 3"
   ]
  },
  {
   "cell_type": "markdown",
   "metadata": {},
   "source": [
    "Сколько решений имеет линейная система:<br>\n",
    "$$\\begin{bmatrix} \n",
    "1 & 2 & 3\\\\\n",
    "4 & 5 & 6\\\\\n",
    "7 & 8 & 9\\\\\n",
    "\\end{bmatrix}*X=\n",
    "\\begin{bmatrix} \n",
    "12\\\\\n",
    "2\\\\\n",
    "1\\\\\n",
    "\\end{bmatrix}\n",
    "$$\n",
    "\n",
    "Если ноль – то измените вектор правой части так, чтобы система стала совместной, и решите ее. "
   ]
  },
  {
   "cell_type": "code",
   "execution_count": 23,
   "metadata": {},
   "outputs": [
    {
     "name": "stdout",
     "output_type": "stream",
     "text": [
      "[[1 2 3]\n",
      " [4 5 6]\n",
      " [7 8 9]]\n",
      "[[ 1  2  3 12]\n",
      " [ 4  5  6  2]\n",
      " [ 7  8  9  1]]\n"
     ]
    },
    {
     "data": {
      "text/plain": [
       "(2, 3)"
      ]
     },
     "execution_count": 23,
     "metadata": {},
     "output_type": "execute_result"
    }
   ],
   "source": [
    "import numpy as np\n",
    "import matplotlib.pyplot as plt\n",
    "\n",
    "# print(np.__version__)\n",
    "\n",
    "A = np.array([[1, 2, 3], [4, 5, 6], [7, 8, 9]])\n",
    "B = np.array([[12, 2, 1]])\n",
    "C = np.concatenate((A,B.T), axis=1)\n",
    "\n",
    "print (A)\n",
    "print (C)\n",
    "np.linalg.matrix_rank(A, 0.0001), np.linalg.matrix_rank(C, 0.0001)\n",
    "np.linalg.matrix_rank(A), np.linalg.matrix_rank(C)"
   ]
  },
  {
   "cell_type": "markdown",
   "metadata": {},
   "source": [
    "Теорема Кронекера-Каппели утверждает, что в этом случае __решениЙ нет__ т. к.\n",
    "$rank A\\ne rank С$"
   ]
  },
  {
   "cell_type": "code",
   "execution_count": 35,
   "metadata": {},
   "outputs": [
    {
     "name": "stdout",
     "output_type": "stream",
     "text": [
      "[[1 2 3 1]\n",
      " [4 5 6 1]\n",
      " [7 8 9 1]]\n",
      "[[1 2 3]\n",
      " [4 5 6]\n",
      " [7 8 9]]\n"
     ]
    },
    {
     "data": {
      "text/plain": [
       "(2, 2)"
      ]
     },
     "execution_count": 35,
     "metadata": {},
     "output_type": "execute_result"
    }
   ],
   "source": [
    "# Подбираем вектор B\n",
    "B = np.array([[1, 1, 1]])\n",
    "\n",
    "C = np.concatenate((A,B.T), axis=1)\n",
    "print (C)\n",
    "print(A)\n",
    "np.linalg.matrix_rank(A, 0.0001), np.linalg.matrix_rank(C, 0.0001)\n",
    "# np.linalg.matrix_rank(A), np.linalg.matrix_rank(C)\n"
   ]
  },
  {
   "cell_type": "markdown",
   "metadata": {},
   "source": [
    "___Ранг основной матрицы равен рангу расширенной матрицы (2, 2) и меньше числа неизвестных.<br>\n",
    "Следовательно система имеет бесконечно много решений.___"
   ]
  },
  {
   "cell_type": "code",
   "execution_count": 34,
   "metadata": {},
   "outputs": [],
   "source": [
    "# np.linalg.solve(A, B)"
   ]
  },
  {
   "cell_type": "code",
   "execution_count": 26,
   "metadata": {},
   "outputs": [
    {
     "name": "stdout",
     "output_type": "stream",
     "text": [
      "[[1 2 3]\n",
      " [4 5 6]\n",
      " [7 8 9]]\n",
      "del = -9.51619735392994e-16\n"
     ]
    }
   ],
   "source": [
    "print(A)\n",
    "print(\"del =\", np.linalg.det(A))"
   ]
  },
  {
   "cell_type": "markdown",
   "metadata": {},
   "source": [
    "# Задание 4"
   ]
  },
  {
   "cell_type": "markdown",
   "metadata": {},
   "source": [
    "Вычислите LU-разложение матрицы:<br>\n",
    "$$\\begin{bmatrix} \n",
    "1 & 2 & 3\\\\\n",
    "2 & 16 & 21\\\\\n",
    "4 & 28 & 73\\\\\n",
    "\\end{bmatrix}$$"
   ]
  },
  {
   "cell_type": "markdown",
   "metadata": {},
   "source": [
    "LU-разложение определяет алгоритм Гауса решения линейных систем"
   ]
  },
  {
   "cell_type": "code",
   "execution_count": 15,
   "metadata": {},
   "outputs": [
    {
     "name": "stdout",
     "output_type": "stream",
     "text": [
      "[[0. 1. 0.]\n",
      " [0. 0. 1.]\n",
      " [1. 0. 0.]]\n",
      "[[ 1.    0.    0.  ]\n",
      " [ 0.25  1.    0.  ]\n",
      " [ 0.5  -0.4   1.  ]]\n",
      "[[  4.    28.    73.  ]\n",
      " [  0.    -5.   -15.25]\n",
      " [  0.     0.   -21.6 ]]\n",
      "[[0. 0. 0.]\n",
      " [0. 0. 0.]\n",
      " [0. 0. 0.]]\n"
     ]
    }
   ],
   "source": [
    "import scipy \n",
    "import scipy.linalg  \n",
    "\n",
    "A = np.array([ [1, 2, 3], [2, 16, 21], [4, 28, 73]])\n",
    "P, L, U = scipy.linalg.lu(A)\n",
    "\n",
    "print(P)\n",
    "print(L)\n",
    "print(U)\n",
    "\n",
    "print(np.dot(P.transpose(), A) - np.dot(L, U))"
   ]
  },
  {
   "cell_type": "code",
   "execution_count": null,
   "metadata": {},
   "outputs": [],
   "source": []
  },
  {
   "cell_type": "markdown",
   "metadata": {},
   "source": [
    "# Задание 5"
   ]
  },
  {
   "cell_type": "markdown",
   "metadata": {},
   "source": [
    "Найдите нормальное псевдорешение недоопределенной системы:<br>\n",
    "x + 2y – z = 1  <br>\n",
    "8x – 5y + 2z = 12<br>\n",
    "Для этого определите функцию Q(x,y,z), равную норме решения, и найдите ее минимум. "
   ]
  },
  {
   "cell_type": "code",
   "execution_count": null,
   "metadata": {},
   "outputs": [],
   "source": [
    "A = np.array([[1, 2, -1], [8, -5, 2]])\n",
    "B = np.array([1, 12])"
   ]
  },
  {
   "cell_type": "code",
   "execution_count": 61,
   "metadata": {},
   "outputs": [],
   "source": [
    "def Q(x, y, z):\n",
    "    return (x**2 + y**2 + z**2)"
   ]
  },
  {
   "cell_type": "code",
   "execution_count": 68,
   "metadata": {},
   "outputs": [
    {
     "data": {
      "text/plain": [
       "[<mpl_toolkits.mplot3d.art3d.Line3D at 0x75e050f220>]"
      ]
     },
     "execution_count": 68,
     "metadata": {},
     "output_type": "execute_result"
    },
    {
     "data": {
      "image/png": "[encoded data removed]",
      "text/plain": [
       "<Figure size 432x288 with 1 Axes>"
      ]
     },
     "metadata": {
      "needs_background": "light"
     },
     "output_type": "display_data"
    }
   ],
   "source": [
    "# x = np.linspace(-np.pi, np.pi, 50)\n",
    "x = np.linspace(-2, 5, 201)\n",
    "y = np.linspace(-5, 5, 201)\n",
    "z = x + 2*y -1\n",
    "z1 = 6 + (5/2)*y - 4*x \n",
    "fig = plt.figure()\n",
    "ax = fig.add_subplot(111, projection='3d')\n",
    "ax.plot(x, y, Q(x, y, z), label='1')\n",
    "ax.plot(x, y, Q(x, y, z1), label='2')"
   ]
  },
  {
   "cell_type": "markdown",
   "metadata": {},
   "source": [
    "Решение около точки (1.3, 0, 0)"
   ]
  },
  {
   "cell_type": "code",
   "execution_count": 69,
   "metadata": {},
   "outputs": [
    {
     "name": "stderr",
     "output_type": "stream",
     "text": [
      "<ipython-input-69-279d39a06aaa>:5: FutureWarning: `rcond` parameter will change to the default of machine precision times ``max(M, N)`` where M and N are the input matrix dimensions.\n",
      "To use the future default and silence this warning we advise to pass `rcond=None`, to keep using the old, explicitly pass `rcond=-1`.\n",
      "  np.linalg.lstsq(A, B)\n"
     ]
    },
    {
     "data": {
      "text/plain": [
       "(array([ 1.38191882, -0.18081181,  0.0202952 ]),\n",
       " array([], dtype=float64),\n",
       " 2,\n",
       " array([9.65316119, 2.41173777]))"
      ]
     },
     "execution_count": 69,
     "metadata": {},
     "output_type": "execute_result"
    }
   ],
   "source": [
    "# Найдем нормальное псевдорешене методом библиотеки nunpy\n",
    "A = np.array([[1, 2, -1], [8, -5, 2]])\n",
    "B = np.array([1, 12])\n",
    "\n",
    "np.linalg.lstsq(A, B)"
   ]
  },
  {
   "cell_type": "code",
   "execution_count": null,
   "metadata": {},
   "outputs": [],
   "source": [
    "Решение [ 1.38191882, -0.18081181,  0.0202952 ] близко к найденному нами решению (1.3, 0, 0)"
   ]
  },
  {
   "cell_type": "code",
   "execution_count": 70,
   "metadata": {},
   "outputs": [
    {
     "data": {
      "text/plain": [
       "[<mpl_toolkits.mplot3d.art3d.Line3D at 0x75e057c340>]"
      ]
     },
     "execution_count": 70,
     "metadata": {},
     "output_type": "execute_result"
    },
    {
     "data": {
      "image/png": "[encoded data removed]",
      "text/plain": [
       "<Figure size 432x288 with 1 Axes>"
      ]
     },
     "metadata": {
      "needs_background": "light"
     },
     "output_type": "display_data"
    }
   ],
   "source": [
    "# x = np.linspace(-np.pi, np.pi, 50)\n",
    "x = np.linspace(-1, 5, 201)\n",
    "y = np.linspace(-1, 5, 201)\n",
    "z = x + 2*y -1\n",
    "z1 = 6 + (5/2)*y - 4*x \n",
    "fig = plt.figure()\n",
    "ax = fig.add_subplot(111, projection='3d')\n",
    "ax.plot(x, y, z, label='1')\n",
    "ax.plot(x, y, z1, label='2')"
   ]
  },
  {
   "cell_type": "code",
   "execution_count": null,
   "metadata": {},
   "outputs": [],
   "source": []
  },
  {
   "cell_type": "markdown",
   "metadata": {},
   "source": [
    "# Задание 6"
   ]
  },
  {
   "cell_type": "markdown",
   "metadata": {},
   "source": [
    "Найдите одно из псевдорешений вырожденной системы:<br>\n",
    "$$\\begin{bmatrix} \n",
    "1 & 2 & 3\\\\\n",
    "4 & 5 & 6\\\\\n",
    "7 & 8 & 9\\\\\n",
    "\\end{bmatrix}*X=\n",
    "\\begin{bmatrix} \n",
    "2\\\\\n",
    "5\\\\\n",
    "11\\\\\n",
    "\\end{bmatrix}\n",
    "$$\n",
    "\n",
    "Попробуйте также отыскать и нормальное псевдорешение."
   ]
  },
  {
   "cell_type": "code",
   "execution_count": 72,
   "metadata": {},
   "outputs": [
    {
     "name": "stdout",
     "output_type": "stream",
     "text": [
      "[[1. 2. 3.]\n",
      " [4. 5. 6.]\n",
      " [7. 8. 9.]]\n",
      "[[-0.12309149  0.90453403  0.40824829]\n",
      " [-0.49236596  0.30151134 -0.81649658]\n",
      " [-0.86164044 -0.30151134  0.40824829]]\n",
      "[[-8.12403840e+00 -9.60113630e+00 -1.10782342e+01]\n",
      " [ 0.00000000e+00  9.04534034e-01  1.80906807e+00]\n",
      " [ 0.00000000e+00  0.00000000e+00 -1.11164740e-15]]\n"
     ]
    }
   ],
   "source": [
    "A = np.array([[1, 2, 3], [4, 5, 6], [7, 8, 9]], float)\n",
    "B = np.array([2, 5, 11])  \n",
    "# Найдём QR разложение матрицы A\n",
    "# Q-ортогональная матрица, R - верхняя треугольная матрица\n",
    "Q, R = np.linalg.qr(A)\n",
    "\n",
    "print(A)\n",
    "print(Q)\n",
    "print(R)"
   ]
  },
  {
   "cell_type": "code",
   "execution_count": 73,
   "metadata": {},
   "outputs": [
    {
     "name": "stdout",
     "output_type": "stream",
     "text": [
      "[[1. 2. 3.]\n",
      " [4. 5. 6.]\n",
      " [7. 8. 9.]]\n",
      "[[ 1.00000000e+00 -5.26517217e-16 -2.55176183e-16]\n",
      " [-5.26517217e-16  1.00000000e+00  3.37757775e-16]\n",
      " [-2.55176183e-16  3.37757775e-16  1.00000000e+00]]\n"
     ]
    }
   ],
   "source": [
    "print(np.dot(Q, R))\n",
    "print(np.dot(np.transpose(Q), Q))"
   ]
  },
  {
   "cell_type": "code",
   "execution_count": 74,
   "metadata": {},
   "outputs": [
    {
     "data": {
      "text/plain": [
       "array([[-8.1240384 , -9.6011363 ],\n",
       "       [ 0.        ,  0.90453403]])"
      ]
     },
     "execution_count": 74,
     "metadata": {},
     "output_type": "execute_result"
    }
   ],
   "source": [
    "R1 = R[:2, :2]\n",
    "R1"
   ]
  },
  {
   "cell_type": "code",
   "execution_count": 76,
   "metadata": {},
   "outputs": [
    {
     "data": {
      "text/plain": [
       "array([-1.21860576e+01,  8.54871729e-15])"
      ]
     },
     "execution_count": 76,
     "metadata": {},
     "output_type": "execute_result"
    }
   ],
   "source": [
    "B1 = np.dot(np.transpose(Q), B)[:2]\n",
    "B1"
   ]
  },
  {
   "cell_type": "code",
   "execution_count": 77,
   "metadata": {},
   "outputs": [
    {
     "data": {
      "text/plain": [
       "array([1.50000000e+00, 9.45096256e-15])"
      ]
     },
     "execution_count": 77,
     "metadata": {},
     "output_type": "execute_result"
    }
   ],
   "source": [
    "X1 = np.linalg.solve(R1, B1)\n",
    "X1"
   ]
  },
  {
   "cell_type": "code",
   "execution_count": 80,
   "metadata": {},
   "outputs": [
    {
     "name": "stdout",
     "output_type": "stream",
     "text": [
      "[1.50000000e+00 9.45096256e-15 0.00000000e+00]\n"
     ]
    },
    {
     "data": {
      "text/plain": [
       "1.4999999999999893"
      ]
     },
     "execution_count": 80,
     "metadata": {},
     "output_type": "execute_result"
    }
   ],
   "source": [
    "# Получим псевдорешение для исходной системы\n",
    "X = np.append(X1, 0)\n",
    "print(X)\n",
    "np.linalg.norm(X)"
   ]
  },
  {
   "cell_type": "code",
   "execution_count": 79,
   "metadata": {},
   "outputs": [
    {
     "data": {
      "text/plain": [
       "1.2247448713915885"
      ]
     },
     "execution_count": 79,
     "metadata": {},
     "output_type": "execute_result"
    }
   ],
   "source": [
    "np.linalg.norm(np.dot(A, X) - B)"
   ]
  },
  {
   "cell_type": "code",
   "execution_count": null,
   "metadata": {},
   "outputs": [],
   "source": []
  }
 ],
 "metadata": {
  "kernelspec": {
   "display_name": "Python 3",
   "language": "python",
   "name": "python3"
  },
  "language_info": {
   "codemirror_mode": {
    "name": "ipython",
    "version": 3
   },
   "file_extension": ".py",
   "mimetype": "text/x-python",
   "name": "python",
   "nbconvert_exporter": "python",
   "pygments_lexer": "ipython3",
   "version": "3.8.5"
  }
 },
 "nbformat": 4,
 "nbformat_minor": 4
}
